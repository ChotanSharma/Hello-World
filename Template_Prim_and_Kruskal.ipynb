{
  "cells": [
    {
      "cell_type": "markdown",
      "metadata": {
        "id": "view-in-github",
        "colab_type": "text"
      },
      "source": [
        "<a href=\"https://colab.research.google.com/github/ChotanSharma/Hello-World/blob/main/Template_Prim_and_Kruskal.ipynb\" target=\"_parent\"><img src=\"https://colab.research.google.com/assets/colab-badge.svg\" alt=\"Open In Colab\"/></a>"
      ]
    },
    {
      "cell_type": "markdown",
      "metadata": {
        "id": "4mxTA9kBZuZ7"
      },
      "source": [
        "<h1>Prim and Kruskal</h1>"
      ]
    },
    {
      "cell_type": "markdown",
      "metadata": {
        "id": "KCGBXTWnZuZ-"
      },
      "source": [
        "The purpose of this project is for you to compute minimum spanning trees of weighted graphs using Prim's and Kruskal's Algorithms.  Note that ['A', 'B'] denotes the same edge as ['B', 'A'].  The\n",
        "ONLY IMPORT ALLOWED is  \"copy\" and you are ONLY allowed to use the copy.deepcopy() method from this package.  All of your code should be 'from scratch.'  "
      ]
    },
    {
      "cell_type": "markdown",
      "metadata": {
        "id": "aPRmkB_RZuaA"
      },
      "source": [
        "<h2>Objectives</h2>"
      ]
    },
    {
      "cell_type": "markdown",
      "metadata": {
        "id": "wivNWZm7ZuaB"
      },
      "source": [
        "<h3>edge_get</h3>"
      ]
    },
    {
      "cell_type": "markdown",
      "metadata": {
        "id": "TCcHL4CBZuaD"
      },
      "source": [
        "You are to write a function \"edge_get(graph)\" that takes in a weighted graph as its input, and then returns a single list whose entries are the edges (each in the form of a list) where the edges are ordered in nondecreasing order."
      ]
    },
    {
      "cell_type": "code",
      "execution_count": 5,
      "metadata": {
        "id": "Nq9_wdMaZuaD"
      },
      "outputs": [],
      "source": [
        "def edge_get(graph):\n",
        "  n_graph = []\n",
        "  for i in graph:\n",
        "    for j in graph[i]:\n",
        "      n_graph.append([i]+j)\n",
        "  sorted_list = sorted(n_graph, key=lambda x : x[2])\n",
        "  result = []\n",
        "  for i in sorted_list:\n",
        "    i.pop()\n",
        "    if sorted(i) in result:\n",
        "      pass\n",
        "    else:\n",
        "      result.append(i)\n",
        "  return result\n",
        "\n",
        "\n",
        "\n",
        "\n",
        "\n",
        "\n",
        "\n"
      ]
    },
    {
      "cell_type": "markdown",
      "metadata": {
        "id": "NFa9jjM7ZuaE"
      },
      "source": [
        "After compiling the above cell, you should be able to compile the following cell and obtain the desired outputs."
      ]
    },
    {
      "cell_type": "code",
      "execution_count": 6,
      "metadata": {
        "id": "tY9R6LfcZuaE",
        "colab": {
          "base_uri": "https://localhost:8080/"
        },
        "outputId": "fc77b2a1-97b9-4cf9-864a-23a22f8f61ef"
      },
      "outputs": [
        {
          "output_type": "stream",
          "name": "stdout",
          "text": [
            "[['A', 'B'], ['A', 'D'], ['A', 'C'], ['B', 'C'], ['C', 'D']]\n"
          ]
        }
      ],
      "source": [
        "print(edge_get({\"A\" : [[\"B\", 5], [\"C\", 10], [\"D\", 5]], \"B\" : [[\"A\", 5], [\"C\", 15]], \"C\" : [[\"A\", 10], [\"B\", 15], [\"D\", 20]], \"D\": [[\"A\",5], [\"C\",20]]}))"
      ]
    },
    {
      "cell_type": "markdown",
      "metadata": {
        "id": "G0gcCEvdZuaF"
      },
      "source": [
        "This should return\n",
        "\n",
        "[[\"A\",\"B\"], [\"A\",\"D\"], [\"A\",\"C\"], [\"B\",\"C\"], [\"C\",\"D\"]] or [[\"A\",\"D\"], [\"A\",\"B\"], [\"A\",\"C\"], [\"B\",\"C\"], [\"C\",\"D\"]]"
      ]
    },
    {
      "cell_type": "markdown",
      "metadata": {
        "id": "gs_IzC2EZuaG"
      },
      "source": [
        "<h3>list_join</h3>"
      ]
    },
    {
      "cell_type": "markdown",
      "metadata": {
        "id": "1S1lWGkNZuaH"
      },
      "source": [
        "You are to write a function \"list_join(lst, elt1, elt2)\" that takes in three inputs.  The first input is a list called \"lst\" whose entries are lists each containing vertices.  The second and third inputs (\"elt1\" and \"elt2\") are vertices that are both contained in some list within \"lst\".  If \"elt1\" and \"elt2\" are in the same sublist within \"lst\", then list_join is to return \"lst\".  Otherwise if they are in separate sublists, then list_join is to return a new list in which the sublists containing \"elt1\" and \"elt2\" are now merged.  You may assume that the sublists within \"lst\" have no elements in common."
      ]
    },
    {
      "cell_type": "code",
      "execution_count": 9,
      "metadata": {
        "collapsed": true,
        "id": "0hdGyM9ZZuaI"
      },
      "outputs": [],
      "source": [
        "def list_join(lst, elt1, elt2):\n",
        "  for inner in lst:\n",
        "    if elt1 in inner and elt2 in inner:\n",
        "      return lst\n",
        "    if elt1 in inner and elt2 not in inner:\n",
        "      inner = inner.append(elt2)\n",
        "      lst.remove([elt2])\n",
        "      return lst\n",
        "\n",
        "\n"
      ]
    },
    {
      "cell_type": "markdown",
      "metadata": {
        "id": "MHKG-PK4ZuaJ"
      },
      "source": [
        "After compiling the above cell, you should be able to compile the following cell and obtain the desired outputs."
      ]
    },
    {
      "cell_type": "code",
      "execution_count": 10,
      "metadata": {
        "id": "AMhoMOA4ZuaJ",
        "colab": {
          "base_uri": "https://localhost:8080/"
        },
        "outputId": "89b86c81-dad5-4de9-8ae4-e841a6e01b65"
      },
      "outputs": [
        {
          "output_type": "stream",
          "name": "stdout",
          "text": [
            "[['A', 'B'], ['C'], ['D']] [['A', 'B', 'C'], ['D']] [['A', 'B'], ['C', 'D']]\n"
          ]
        }
      ],
      "source": [
        "print(list_join([[\"A\",\"B\"], [\"C\"], [\"D\"]], \"A\", \"B\"),\n",
        "      list_join([[\"A\",\"B\"], [\"C\"], [\"D\"]], \"A\", \"C\"),\n",
        "      list_join([[\"A\",\"B\"], [\"C\"], [\"D\"]], \"C\", \"D\"))"
      ]
    },
    {
      "cell_type": "markdown",
      "metadata": {
        "id": "54hSB1RJZuaJ"
      },
      "source": [
        "This should return\n",
        "\n",
        "[[\"A\",\"B\"], [\"C\"], [\"D\"]]  \n",
        "[[\"A\",\"B\",\"C\"], [\"D\"]]  \n",
        "[[\"A\",\"B\"], [\"C\",\"D\"]]"
      ]
    },
    {
      "cell_type": "markdown",
      "metadata": {
        "id": "YquI2LbYZuaJ"
      },
      "source": [
        "<h3>min_kruskal</h3>"
      ]
    },
    {
      "cell_type": "markdown",
      "metadata": {
        "id": "-x6AvKapZuaK"
      },
      "source": [
        "You are to write a function \"min_kruskal(graph)\" that takes in a weighted graph as its input and return a list of the edges of a minimum spanning tree in the order produced by Kruskal's Algorithm.  "
      ]
    },
    {
      "cell_type": "code",
      "execution_count": 13,
      "metadata": {
        "collapsed": true,
        "id": "rXHOXFWJZuaK"
      },
      "outputs": [],
      "source": [
        "def min_kruskal(graph):\n",
        "  def get_edge_list(graph):\n",
        "    n_graph = []\n",
        "    for i in graph:\n",
        "      for j in graph[i]:\n",
        "        n_graph.append([i]+j)\n",
        "    sorted_list = sorted(n_graph, key=lambda x : x[2])\n",
        "    result = []\n",
        "    for i in sorted_list:\n",
        "      i.pop()\n",
        "      if sorted(i) in result:\n",
        "        pass\n",
        "      else:\n",
        "        result.append(i)\n",
        "    return result\n",
        "\n",
        "  edges = get_edge_list(graph)\n",
        "\n",
        "  k_list = []\n",
        "  v_list = []\n",
        "\n",
        "\n",
        "  for edge in edges:\n",
        "    if edge not in k_list and edge[1] not in v_list:\n",
        "      k_list.append(edge)\n",
        "      v_list.append(edge[0])\n",
        "      v_list.append(edge[1])\n",
        "    elif edge not in k_list and edge[0] not in v_list:\n",
        "      k_list.append(edge)\n",
        "      v_list.append(edge[0])\n",
        "      v_list.append(edge[1])\n",
        "  return k_list"
      ]
    },
    {
      "cell_type": "markdown",
      "metadata": {
        "id": "WwcZhnx4ZuaL"
      },
      "source": [
        "After compiling the above cell, you should be able to compile the following cell and obtain the desired outputs."
      ]
    },
    {
      "cell_type": "code",
      "execution_count": 14,
      "metadata": {
        "id": "CK9TTi_BZuaL",
        "colab": {
          "base_uri": "https://localhost:8080/"
        },
        "outputId": "ff244467-1139-4647-9c12-49f396f7715a"
      },
      "outputs": [
        {
          "output_type": "stream",
          "name": "stdout",
          "text": [
            "[['A', 'B'], ['A', 'D'], ['A', 'C']] [['A', 'D'], ['A', 'C'], ['B', 'C']]\n"
          ]
        }
      ],
      "source": [
        "print(min_kruskal({\"A\" : [[\"B\", 5], [\"C\", 10], [\"D\", 5]], \"B\" : [[\"A\", 5], [\"C\", 15]], \"C\" : [[\"A\", 10], [\"B\", 15], [\"D\", 20]], \"D\": [[\"A\",5], [\"C\",20]]}),\n",
        "      min_kruskal({\"A\" : [[\"B\", 25], [\"C\", 10], [\"D\", 5]], \"B\" : [[\"A\", 25], [\"C\", 15]], \"C\" : [[\"A\", 10], [\"B\", 15], [\"D\", 20]], \"D\": [[\"A\",5], [\"C\",20]]}))"
      ]
    },
    {
      "cell_type": "markdown",
      "metadata": {
        "id": "XGxGFeXSZuaL"
      },
      "source": [
        "This should return\n",
        "\n",
        "[[\"A\",\"B\"], [\"A\",\"D\"], [\"A\",\"C\"]] or [[\"A\",\"D\"], [\"A\",\"B\"], [\"A\",\"C\"]]  \n",
        "[[\"A\",\"D\"], [\"A\",\"C\"], [\"B\",\"C\"]]"
      ]
    },
    {
      "cell_type": "markdown",
      "metadata": {
        "id": "U8WCX4XRZuaM"
      },
      "source": [
        "<h3>min_prim</h3>"
      ]
    },
    {
      "cell_type": "markdown",
      "metadata": {
        "id": "ZLtvpKhOZuaM"
      },
      "source": [
        "You are to write a function \"min_prim(graph,source)\" that takes in a weighted graph and a vertex \"source\" as its input.  It is to return a list of the edges of a minimum spanning tree in the order produced by Prim's Algorithm with \"source\" as the root/source vertex."
      ]
    },
    {
      "cell_type": "code",
      "execution_count": 16,
      "metadata": {
        "collapsed": true,
        "id": "mfdTxppRZuaM"
      },
      "outputs": [],
      "source": [
        "def min_prim(graph, source):\n",
        "    def get_edge_list(graph):\n",
        "        n_graph = []\n",
        "        for i in graph:\n",
        "            for j in graph[i]:\n",
        "                n_graph.append([i] + j)\n",
        "        sorted_list = sorted(n_graph, key=lambda x: x[2])\n",
        "        result = []\n",
        "        for i in sorted_list:\n",
        "            i[2] = str(i[2])\n",
        "            if sorted(i) in result:\n",
        "                pass\n",
        "            else:\n",
        "                result.append(sorted(i))\n",
        "        return result\n",
        "\n",
        "    edges = get_edge_list(graph)\n",
        "\n",
        "    def f_element(e, s):\n",
        "        prim_list = []\n",
        "        for edge in e:\n",
        "            for v in edge:\n",
        "                if s == v:\n",
        "                    prim_list.append(edge)\n",
        "                    return prim_list\n",
        "\n",
        "    p_list = f_element(edges, source)\n",
        "    v_list = [p_list[0][1], p_list[0][2]]\n",
        "\n",
        "    for edge in edges:\n",
        "        if edge not in p_list and edge[1] not in v_list:\n",
        "            p_list.append(edge)\n",
        "            v_list.append(edge[1])\n",
        "            v_list.append(edge[2])\n",
        "        if edge not in p_list and edge[2] not in v_list:\n",
        "            p_list.append(edge)\n",
        "            v_list.append(edge[1])\n",
        "            v_list.append(edge[2])\n",
        "\n",
        "    for p in p_list:\n",
        "        p.pop(0)\n",
        "\n",
        "    return p_list\n",
        "\n",
        "\n",
        "\n",
        "\n",
        "\n"
      ]
    },
    {
      "cell_type": "markdown",
      "metadata": {
        "id": "dQ_mUTEmZuaN"
      },
      "source": [
        "After compiling the above cell, you should be able to compile the following cell and obtain the desired outputs."
      ]
    },
    {
      "cell_type": "code",
      "execution_count": 17,
      "metadata": {
        "id": "QEYR-v-SZuaN",
        "colab": {
          "base_uri": "https://localhost:8080/"
        },
        "outputId": "2e0ee527-a769-400c-bd7c-f6e6c2379518"
      },
      "outputs": [
        {
          "output_type": "stream",
          "name": "stdout",
          "text": [
            "[['A', 'B'], ['A', 'D'], ['A', 'C']] [['A', 'C'], ['A', 'B'], ['A', 'D']]\n"
          ]
        }
      ],
      "source": [
        "print(min_prim({\"A\" : [[\"B\", 5], [\"C\", 10], [\"D\", 5]], \"B\" : [[\"A\", 5], [\"C\", 15]], \"C\" : [[\"A\", 10], [\"B\", 15], [\"D\", 20]], \"D\": [[\"A\",5], [\"C\",20]]}, \"A\"),\n",
        "      min_prim({\"A\" : [[\"B\", 5], [\"C\", 10], [\"D\", 5]], \"B\" : [[\"A\", 5], [\"C\", 15]], \"C\" : [[\"A\", 10], [\"B\", 15], [\"D\", 20]], \"D\": [[\"A\",5], [\"C\",20]]}, \"C\"))"
      ]
    },
    {
      "cell_type": "markdown",
      "metadata": {
        "id": "VfoevqzbZuaN"
      },
      "source": [
        "This should return\n",
        "\n",
        "[[\"A\",\"B\"], [\"A\",\"D\"], [\"A\",\"C\"]] or [[\"A\",\"D\"], [\"A\",\"B\"], [\"A\",\"C\"]]  \n",
        "[[\"A\",\"C\"], [\"A\",\"B\"], [\"A\",\"D\"]] or [[\"A\",\"C\"], [\"A\",\"D\"], [\"A\",\"B\"]]"
      ]
    },
    {
      "cell_type": "markdown",
      "metadata": {
        "id": "sNcn_HGjZuaO"
      },
      "source": [
        "<h3>mst_kruskal</h3>"
      ]
    },
    {
      "cell_type": "markdown",
      "metadata": {
        "id": "81IoNINJZuaP"
      },
      "source": [
        "You are to write a function \"mst_kruskal(graph)\" takes in a weighted graph and returns the minimum spanning tree produced by Kruskal's Algorithm. Note: this should be as a graph and not as a rooted tree!"
      ]
    },
    {
      "cell_type": "code",
      "execution_count": 19,
      "metadata": {
        "collapsed": true,
        "id": "bllPtWr9ZuaP"
      },
      "outputs": [],
      "source": [
        "def mst_kruskal(graph):\n",
        "  def get_edge_list(graph):\n",
        "    n_graph = []\n",
        "    for i in graph:\n",
        "      for j in graph[i]:\n",
        "        n_graph.append([i]+j)\n",
        "    sorted_list = sorted(n_graph, key=lambda x : x[2])\n",
        "    result = []\n",
        "    for i in sorted_list:\n",
        "      i.pop()\n",
        "      if sorted(i) in result:\n",
        "        pass\n",
        "      else:\n",
        "        result.append(i)\n",
        "    return result\n",
        "\n",
        "  edges = get_edge_list(graph)\n",
        "\n",
        "  k_list = []\n",
        "  v_list = []\n",
        "\n",
        "\n",
        "  for edge in edges:\n",
        "    if edge not in k_list and edge[1] not in v_list:\n",
        "      k_list.append(edge)\n",
        "      v_list.append(edge[0])\n",
        "      v_list.append(edge[1])\n",
        "    elif edge not in k_list and edge[0] not in v_list:\n",
        "      k_list.append(edge)\n",
        "      v_list.append(edge[0])\n",
        "      v_list.append(edge[1])\n",
        "\n",
        "  r_dict = dict()\n",
        "  v_set = set(v_list)\n",
        "\n",
        "  for v in v_set:\n",
        "    r_dict[v] = []\n",
        "\n",
        "  for e in k_list:\n",
        "    for r in r_dict:\n",
        "      if r == e[0]:\n",
        "        r_dict[r].append(e[1])\n",
        "      if r == e[1]:\n",
        "        r_dict[r].append(e[0])\n",
        "  return r_dict\n",
        "\n",
        "\n"
      ]
    },
    {
      "cell_type": "markdown",
      "metadata": {
        "id": "UtIU-6JXZuaQ"
      },
      "source": [
        "After compiling the above cell, you should be able to compile the following cell and obtain the desired outputs."
      ]
    },
    {
      "cell_type": "code",
      "execution_count": 21,
      "metadata": {
        "id": "eG6XwrLeZuaQ",
        "colab": {
          "base_uri": "https://localhost:8080/"
        },
        "outputId": "04385eab-df24-4f1b-98ad-0c04d8c3ac8d"
      },
      "outputs": [
        {
          "output_type": "stream",
          "name": "stdout",
          "text": [
            "{'C': ['A'], 'D': ['A'], 'A': ['B', 'D', 'C'], 'B': ['A']} {'C': ['A', 'B'], 'D': ['A'], 'A': ['D', 'C'], 'B': ['C']}\n"
          ]
        }
      ],
      "source": [
        "print(mst_kruskal({\"A\" : [[\"B\", 5], [\"C\", 10], [\"D\", 5]], \"B\" : [[\"A\", 5], [\"C\", 15]], \"C\" : [[\"A\", 10], [\"B\", 15], [\"D\", 20]], \"D\": [[\"A\",5], [\"C\",20]]}),\n",
        "      mst_kruskal({\"A\" : [[\"B\", 25], [\"C\", 10], [\"D\", 5]], \"B\" : [[\"A\", 25], [\"C\", 15]], \"C\" : [[\"A\", 10], [\"B\", 15], [\"D\", 20]], \"D\": [[\"A\",5], [\"C\",20]]}))"
      ]
    },
    {
      "cell_type": "markdown",
      "metadata": {
        "id": "D-9PODUTZuaQ"
      },
      "source": [
        "This should return\n",
        "\n",
        "{\"A\": [\"B\", \"C\", \"D\"], \"B\": [ \"A\"], \"C\": [\"A\"], \"D\":[\"A\"]}  \n",
        "{\"A\": [\"C\", \"D\"], \"B\": [ \"C\"], \"C\": [\"A\", \"B\"], \"D\":[\"A\"]}  "
      ]
    },
    {
      "cell_type": "code",
      "execution_count": null,
      "metadata": {
        "collapsed": true,
        "id": "kEDTkIYkZuaR"
      },
      "outputs": [],
      "source": []
    }
  ],
  "metadata": {
    "anaconda-cloud": {},
    "kernelspec": {
      "display_name": "Python 3",
      "language": "python",
      "name": "python3"
    },
    "language_info": {
      "codemirror_mode": {
        "name": "ipython",
        "version": 3
      },
      "file_extension": ".py",
      "mimetype": "text/x-python",
      "name": "python",
      "nbconvert_exporter": "python",
      "pygments_lexer": "ipython3",
      "version": "3.7.3"
    },
    "colab": {
      "provenance": [],
      "include_colab_link": true
    }
  },
  "nbformat": 4,
  "nbformat_minor": 0
}